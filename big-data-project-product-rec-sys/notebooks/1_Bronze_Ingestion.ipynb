{
 "cells": [
  {
   "cell_type": "code",
   "execution_count": 0,
   "metadata": {
    "application/vnd.databricks.v1+cell": {
     "cellMetadata": {
      "byteLimit": 2048000,
      "rowLimit": 10000
     },
     "inputWidgets": {},
     "nuid": "deda5152-c80f-4764-8765-48cbebcc21cf",
     "showTitle": false,
     "tableResultSettingsMap": {},
     "title": ""
    }
   },
   "outputs": [],
   "source": [
    "# Define the paths to your uploaded CSV files in the Databricks File System (DBFS)\n",
    "products_csv_path = \"big_data_project.bronze.amazon_products\"\n",
    "categories_csv_path = \"big_data_project.bronze.amazon_products\"\n",
    "\n",
    "# Define the names for our new databases (schemas)\n",
    "bronze_db_name = \"bronze_db\"\n",
    "silver_db_name = \"silver_db\"\n",
    "gold_db_name = \"gold_db\""
   ]
  },
  {
   "cell_type": "code",
   "execution_count": 0,
   "metadata": {
    "application/vnd.databricks.v1+cell": {
     "cellMetadata": {
      "byteLimit": 2048000,
      "implicitDf": true,
      "rowLimit": 10000
     },
     "inputWidgets": {},
     "nuid": "f48d0c22-dc13-4b0c-ac09-af3b4459c86b",
     "showTitle": false,
     "tableResultSettingsMap": {},
     "title": ""
    }
   },
   "outputs": [],
   "source": [
    "%sql\n",
    "-- Create your new Catalog (the main project folder)\n",
    "CREATE CATALOG IF NOT EXISTS ${var.catalog_name};\n",
    "\n",
    "-- Select your catalog so all new schemas are created inside it\n",
    "USE CATALOG ${var.catalog_name};\n",
    "\n",
    "-- Create your three schemas (databases) inside the catalog\n",
    "CREATE SCHEMA IF NOT EXISTS ${var.bronze_schema_name};\n",
    "CREATE SCHEMA IF NOT EXISTS ${var.silver_schema_name};\n",
    "CREATE SCHEMA IF NOT EXISTS ${var.gold_schema_name};"
   ]
  },
  {
   "cell_type": "code",
   "execution_count": 0,
   "metadata": {
    "application/vnd.databricks.v1+cell": {
     "cellMetadata": {},
     "inputWidgets": {},
     "nuid": "a179bc83-c20a-489d-98ab-c60ef9355460",
     "showTitle": false,
     "tableResultSettingsMap": {},
     "title": ""
    }
   },
   "outputs": [],
   "source": [
    "from pyspark.sql.types import StructType, StructField, StringType, DoubleType, IntegerType, BooleanType\n",
    "\n",
    "# Define the schema for the products CSV\n",
    "products_schema = StructType([\n",
    "    StructField(\"asin\", StringType(), True),\n",
    "    StructField(\"title\", StringType(), True),\n",
    "    StructField(\"imgUrl\", StringType(), True),\n",
    "    StructField(\"productURL\", StringType(), True),\n",
    "    StructField(\"stars\", DoubleType(), True),\n",
    "    StructField(\"reviews\", IntegerType(), True),\n",
    "    StructField(\"price\", DoubleType(), True),\n",
    "    StructField(\"listPrice\", DoubleType(), True),\n",
    "    StructField(\"category_id\", IntegerType(), True),\n",
    "    StructField(\"isBestSeller\", BooleanType(), True),\n",
    "    StructField(\"boughtInLastMonth\", IntegerType(), True)\n",
    "])\n",
    "\n",
    "# Define the schema for the categories CSV\n",
    "categories_schema = StructType([\n",
    "    StructField(\"category_id\", IntegerType(), True),\n",
    "    StructField(\"category_name\", StringType(), True)\n",
    "])"
   ]
  },
  {
   "cell_type": "code",
   "execution_count": 0,
   "metadata": {
    "application/vnd.databricks.v1+cell": {
     "cellMetadata": {},
     "inputWidgets": {},
     "nuid": "1fd51276-8091-42a6-9bb5-70c14187fe44",
     "showTitle": false,
     "tableResultSettingsMap": {},
     "title": ""
    }
   },
   "outputs": [],
   "source": [
    "# Read the products CSV with our defined schema\n",
    "products_df = spark.read.csv(\n",
    "    products_csv_path,\n",
    "    schema=products_schema,\n",
    "    header=True\n",
    ")\n",
    "\n",
    "# Write the data to a new Delta table in the bronze database\n",
    "products_df.write.format(\"delta\").mode(\"overwrite\").saveAsTable(f\"{bronze_db_name}.products\")\n",
    "\n",
    "# Show the new table\n",
    "display(spark.sql(f\"SELECT * FROM {bronze_db_name}.products LIMIT 10\"))"
   ]
  },
  {
   "cell_type": "code",
   "execution_count": 0,
   "metadata": {
    "application/vnd.databricks.v1+cell": {
     "cellMetadata": {},
     "inputWidgets": {},
     "nuid": "23691b30-3b69-4ae4-b303-cc4121035b46",
     "showTitle": false,
     "tableResultSettingsMap": {},
     "title": ""
    }
   },
   "outputs": [],
   "source": [
    "# Read the categories CSV\n",
    "categories_df = spark.read.csv(\n",
    "    categories_csv_path,\n",
    "    schema=categories_schema,\n",
    "    header=True\n",
    ")\n",
    "\n",
    "# Write the data to a new Delta table in the bronze database\n",
    "categories_df.write.format(\"delta\").mode(\"overwrite\").saveAsTable(f\"{bronze_db_name}.categories\")\n",
    "\n",
    "# Show the new table\n",
    "display(spark.sql(f\"SELECT * FROM {bronze_db_name}.categories LIMIT 10\"))"
   ]
  }
 ],
 "metadata": {
  "application/vnd.databricks.v1+notebook": {
   "computePreferences": null,
   "dashboards": [],
   "environmentMetadata": {
    "base_environment": "",
    "environment_version": "4"
   },
   "inputWidgetPreferences": null,
   "language": "python",
   "notebookMetadata": {
    "mostRecentlyExecutedCommandWithImplicitDF": {
     "commandId": 6814002546156383,
     "dataframes": [
      "_sqldf"
     ]
    },
    "pythonIndentUnit": 4
   },
   "notebookName": "1_Bronze_Ingestion",
   "widgets": {}
  },
  "language_info": {
   "name": "python"
  }
 },
 "nbformat": 4,
 "nbformat_minor": 0
}
