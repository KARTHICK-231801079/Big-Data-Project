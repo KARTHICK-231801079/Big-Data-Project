{
 "cells": [
  {
   "cell_type": "code",
   "execution_count": 0,
   "metadata": {
    "application/vnd.databricks.v1+cell": {
     "cellMetadata": {
      "byteLimit": 2048000,
      "rowLimit": 10000
     },
     "inputWidgets": {},
     "nuid": "a4d803dc-431a-424b-9072-06f8577f6890",
     "showTitle": false,
     "tableResultSettingsMap": {},
     "title": ""
    }
   },
   "outputs": [],
   "source": [
    "# Define your project structure names\n",
    "catalog_name = \"big_data_project\"\n",
    "bronze_schema_name = \"bronze\"\n",
    "silver_schema_name = \"silver\"\n",
    "\n",
    "# Load the Bronze tables using their full names\n",
    "products_df = spark.table(f\"{catalog_name}.{bronze_schema_name}.amazon_products\")\n",
    "categories_df = spark.table(f\"{catalog_name}.{bronze_schema_name}.amazon_categories\")\n",
    "\n",
    "print(\"Successfully loaded Bronze tables.\")\n",
    "display(products_df.limit(5))"
   ]
  },
  {
   "cell_type": "code",
   "execution_count": 0,
   "metadata": {
    "application/vnd.databricks.v1+cell": {
     "cellMetadata": {
      "byteLimit": 2048000,
      "rowLimit": 10000
     },
     "inputWidgets": {},
     "nuid": "bad11c67-1fed-43f2-a9b3-7e9ada770159",
     "showTitle": false,
     "tableResultSettingsMap": {},
     "title": ""
    }
   },
   "outputs": [],
   "source": [
    "from pyspark.sql.functions import col, lower, trim, regexp_replace, concat_ws\n",
    "\n",
    "# 1. Handle missing values (e.g., fill null prices/reviews with 0)\n",
    "products_cleaned_df = products_df.na.fill(0, [\"price\", \"listPrice\", \"reviews\", \"boughtInLastMonth\"])\n",
    "\n",
    "# 2. Join products and categories - FIXED\n",
    "# We explicitly join 'category_id' from the left DF with 'id' from the right DF.\n",
    "joined_df = products_cleaned_df.join(\n",
    "    categories_df,\n",
    "    on=products_cleaned_df[\"category_id\"] == categories_df[\"id\"],\n",
    "    how=\"left\"  # Use \"left\" join to keep all products, even if they have no category\n",
    ")\n",
    "\n",
    "# 3. Feature Engineering: Create a single text field for our model.\n",
    "# This combines the product title and its category name\n",
    "cleaned_silver_df = joined_df.withColumn(\n",
    "    \"searchable_text\",\n",
    "    lower(\n",
    "        concat_ws(\n",
    "            \" \",  # Separator\n",
    "            col(\"title\"),\n",
    "            col(\"category_name\")\n",
    "        )\n",
    "    )\n",
    ").withColumn(\"searchable_text\", regexp_replace(col(\"searchable_text\"), \"[^a-zA-Z0-9 ]\", \"\")) # Remove punctuation\n",
    "\n",
    "# 4. Select only the columns we need for the final silver table\n",
    "# Note: Because we used an explicit join condition (not 'on=\"col_name\"'),\n",
    "# both 'category_id' and 'id' columns from the join are present.\n",
    "# We select 'category_id' which is from the products table.\n",
    "final_silver_df = cleaned_silver_df.select(\n",
    "    \"asin\",\n",
    "    \"title\",\n",
    "    \"searchable_text\",\n",
    "    \"imgUrl\",\n",
    "    \"productURL\",\n",
    "    \"stars\",\n",
    "    \"reviews\",\n",
    "    \"price\",\n",
    "    \"category_id\",\n",
    "    \"category_name\",\n",
    "    \"boughtInLastMonth\"\n",
    ")\n",
    "\n",
    "print(\"Data cleaning and transformation complete.\")\n",
    "display(final_silver_df.limit(10))"
   ]
  },
  {
   "cell_type": "code",
   "execution_count": 0,
   "metadata": {
    "application/vnd.databricks.v1+cell": {
     "cellMetadata": {
      "byteLimit": 2048000,
      "rowLimit": 10000
     },
     "inputWidgets": {},
     "nuid": "064324ea-aae9-438f-ae1e-08bc2e58089e",
     "showTitle": false,
     "tableResultSettingsMap": {},
     "title": ""
    }
   },
   "outputs": [],
   "source": [
    "# Define the full name for our new Silver table\n",
    "silver_table_name = f\"{catalog_name}.{silver_schema_name}.products_cleaned\"\n",
    "\n",
    "# Write the cleaned and joined data to the Silver layer\n",
    "# We use \"overwrite\" so we can re-run the notebook if needed\n",
    "final_silver_df.write.format(\"delta\").mode(\"overwrite\").saveAsTable(silver_table_name)\n",
    "\n",
    "print(f\"Successfully created Silver table: {silver_table_name}\")"
   ]
  }
 ],
 "metadata": {
  "application/vnd.databricks.v1+notebook": {
   "computePreferences": null,
   "dashboards": [],
   "environmentMetadata": {
    "base_environment": "",
    "environment_version": "4"
   },
   "inputWidgetPreferences": null,
   "language": "python",
   "notebookMetadata": {
    "pythonIndentUnit": 4
   },
   "notebookName": "2_Silver_Transformation",
   "widgets": {}
  },
  "language_info": {
   "name": "python"
  }
 },
 "nbformat": 4,
 "nbformat_minor": 0
}
