{
 "cells": [
  {
   "cell_type": "code",
   "execution_count": 0,
   "metadata": {
    "application/vnd.databricks.v1+cell": {
     "cellMetadata": {
      "byteLimit": 2048000,
      "implicitDf": true,
      "rowLimit": 10000
     },
     "inputWidgets": {},
     "nuid": "cdbdc06f-0e49-422c-94b7-58107d67a683",
     "showTitle": false,
     "tableResultSettingsMap": {},
     "title": ""
    }
   },
   "outputs": [],
   "source": [
    "%sql\n",
    "USE CATALOG big_data_project;\n"
   ]
  },
  {
   "cell_type": "code",
   "execution_count": 0,
   "metadata": {
    "application/vnd.databricks.v1+cell": {
     "cellMetadata": {
      "byteLimit": 2048000,
      "implicitDf": true,
      "rowLimit": 10000
     },
     "inputWidgets": {},
     "nuid": "41bda4c7-5546-4e0d-9068-eda4903110af",
     "showTitle": false,
     "tableResultSettingsMap": {},
     "title": ""
    }
   },
   "outputs": [],
   "source": [
    "%sql\n",
    "CREATE VOLUME IF NOT EXISTS big_data_project.silver.gold_data;"
   ]
  },
  {
   "cell_type": "code",
   "execution_count": 0,
   "metadata": {
    "application/vnd.databricks.v1+cell": {
     "cellMetadata": {
      "byteLimit": 2048000,
      "rowLimit": 10000
     },
     "inputWidgets": {},
     "nuid": "39bb66bf-d546-4329-bccd-4fdb884798f5",
     "showTitle": false,
     "tableResultSettingsMap": {},
     "title": ""
    }
   },
   "outputs": [],
   "source": [
    "# Define your table name\n",
    "gold_table = \"big_data_project.gold.products_with_features\"\n",
    "\n",
    "# Corrected Path:\n",
    "# We save to a new sub-directory INSIDE your existing 'gold_data' volume\n",
    "gold_path_single = \"/Volumes/big_data_project/gold/gold_data/gold_data_single_file\" \n",
    "\n",
    "# Read the table\n",
    "gold_df = spark.table(gold_table)\n",
    "\n",
    "# .coalesce(1) forces Spark to combine all parts into ONE file before saving\n",
    "gold_df.coalesce(1).write.format(\"parquet\").mode(\"overwrite\").save(gold_path_single)\n",
    "\n",
    "print(f\"Gold data saved as a SINGLE file to: {gold_path_single}\")"
   ]
  },
  {
   "cell_type": "code",
   "execution_count": 0,
   "metadata": {
    "application/vnd.databricks.v1+cell": {
     "cellMetadata": {
      "byteLimit": 2048000,
      "implicitDf": true,
      "rowLimit": 10000
     },
     "inputWidgets": {},
     "nuid": "6aee4484-d017-4237-ade2-56b7cc3b5b3a",
     "showTitle": false,
     "tableResultSettingsMap": {},
     "title": ""
    }
   },
   "outputs": [],
   "source": [
    "%sql\n",
    "CREATE VOLUME IF NOT EXISTS big_data_project.silver.sliver_data;"
   ]
  },
  {
   "cell_type": "code",
   "execution_count": 0,
   "metadata": {
    "application/vnd.databricks.v1+cell": {
     "cellMetadata": {
      "byteLimit": 2048000,
      "rowLimit": 10000
     },
     "inputWidgets": {},
     "nuid": "a7863d72-bb20-4cc2-b49a-62dbdc42d24c",
     "showTitle": false,
     "tableResultSettingsMap": {},
     "title": ""
    }
   },
   "outputs": [],
   "source": [
    "# Define your table name\n",
    "silver_table = \"big_data_project.silver.products_cleaned\"\n",
    "\n",
    "# Path to save the single CSV file:\n",
    "# We'll create a new folder 'silver_data_single_file' inside a 'silver_data' volume\n",
    "silver_path_single = \"/Volumes/big_data_project/silver/silver_data/silver_data_single_file\" \n",
    "\n",
    "# Read the table\n",
    "silver_df = spark.table(silver_table)\n",
    "\n",
    "# .coalesce(1) forces Spark to combine all parts into ONE file\n",
    "# .option(\"header\", \"true\") keeps the column names\n",
    "silver_df.coalesce(1).write.format(\"csv\").option(\"header\", \"true\").mode(\"overwrite\").save(silver_path_single)\n",
    "\n",
    "print(f\"Silver data saved as a SINGLE file to: {silver_path_single}\")"
   ]
  },
  {
   "cell_type": "markdown",
   "metadata": {
    "application/vnd.databricks.v1+cell": {
     "cellMetadata": {},
     "inputWidgets": {},
     "nuid": "79591ff5-d1c8-4d29-958e-5d63446b7aed",
     "showTitle": false,
     "tableResultSettingsMap": {},
     "title": ""
    }
   },
   "source": []
  }
 ],
 "metadata": {
  "application/vnd.databricks.v1+notebook": {
   "computePreferences": null,
   "dashboards": [],
   "environmentMetadata": {
    "base_environment": "",
    "environment_version": "4"
   },
   "inputWidgetPreferences": null,
   "language": "python",
   "notebookMetadata": {
    "mostRecentlyExecutedCommandWithImplicitDF": {
     "commandId": 6643303159473228,
     "dataframes": [
      "_sqldf"
     ]
    },
    "pythonIndentUnit": 4
   },
   "notebookName": "creating _csv_parquet",
   "widgets": {}
  },
  "language_info": {
   "name": "python"
  }
 },
 "nbformat": 4,
 "nbformat_minor": 0
}
